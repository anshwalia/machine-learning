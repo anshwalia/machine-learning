{
 "cells": [
  {
   "cell_type": "code",
   "execution_count": 50,
   "id": "selective-settle",
   "metadata": {},
   "outputs": [],
   "source": [
    "%matplotlib inline\n",
    "import matplotlib.pyplot as plt\n",
    "import random\n",
    "\n",
    "import pandas as pd\n",
    "\n",
    "import warnings\n",
    "warnings.filterwarnings(\"ignore\")\n",
    "\n",
    "# SciKit-Learn Example Dataset\n",
    "from sklearn.datasets import load_digits"
   ]
  },
  {
   "cell_type": "code",
   "execution_count": 23,
   "id": "auburn-milton",
   "metadata": {},
   "outputs": [],
   "source": [
    "digits = load_digits()"
   ]
  },
  {
   "cell_type": "code",
   "execution_count": 24,
   "id": "foreign-adams",
   "metadata": {},
   "outputs": [
    {
     "data": {
      "text/plain": [
       "['DESCR', 'data', 'feature_names', 'frame', 'images', 'target', 'target_names']"
      ]
     },
     "execution_count": 24,
     "metadata": {},
     "output_type": "execute_result"
    }
   ],
   "source": [
    "dir(digits)"
   ]
  },
  {
   "cell_type": "code",
   "execution_count": 48,
   "id": "furnished-mitchell",
   "metadata": {},
   "outputs": [
    {
     "data": {
      "text/plain": [
       "(1797, 64)"
      ]
     },
     "execution_count": 48,
     "metadata": {},
     "output_type": "execute_result"
    }
   ],
   "source": [
    "digits.data.shape"
   ]
  },
  {
   "cell_type": "code",
   "execution_count": 26,
   "id": "sealed-jimmy",
   "metadata": {},
   "outputs": [
    {
     "data": {
      "text/plain": [
       "<Figure size 432x288 with 0 Axes>"
      ]
     },
     "metadata": {},
     "output_type": "display_data"
    },
    {
     "data": {
      "image/png": "[encoded data removed]",
      "text/plain": [
       "<Figure size 288x288 with 1 Axes>"
      ]
     },
     "metadata": {
      "needs_background": "light"
     },
     "output_type": "display_data"
    },
    {
     "data": {
      "image/png": "[encoded data removed]",
      "text/plain": [
       "<Figure size 288x288 with 1 Axes>"
      ]
     },
     "metadata": {
      "needs_background": "light"
     },
     "output_type": "display_data"
    },
    {
     "data": {
      "image/png": "[encoded data removed]",
      "text/plain": [
       "<Figure size 288x288 with 1 Axes>"
      ]
     },
     "metadata": {
      "needs_background": "light"
     },
     "output_type": "display_data"
    },
    {
     "data": {
      "image/png": "[encoded data removed]",
      "text/plain": [
       "<Figure size 288x288 with 1 Axes>"
      ]
     },
     "metadata": {
      "needs_background": "light"
     },
     "output_type": "display_data"
    },
    {
     "data": {
      "image/png": "[encoded data removed]",
      "text/plain": [
       "<Figure size 288x288 with 1 Axes>"
      ]
     },
     "metadata": {
      "needs_background": "light"
     },
     "output_type": "display_data"
    }
   ],
   "source": [
    "plt.gray()\n",
    "for i in range(5):\n",
    "    plt.matshow(digits.images[i])"
   ]
  },
  {
   "cell_type": "code",
   "execution_count": 27,
   "id": "expected-sellers",
   "metadata": {},
   "outputs": [
    {
     "data": {
      "text/plain": [
       "array([0, 1, 2, 3, 4])"
      ]
     },
     "execution_count": 27,
     "metadata": {},
     "output_type": "execute_result"
    }
   ],
   "source": [
    "digits.target[0:5]"
   ]
  },
  {
   "cell_type": "code",
   "execution_count": 28,
   "id": "velvet-subdivision",
   "metadata": {},
   "outputs": [],
   "source": [
    "from sklearn.model_selection import train_test_split"
   ]
  },
  {
   "cell_type": "code",
   "execution_count": 29,
   "id": "industrial-sweden",
   "metadata": {},
   "outputs": [],
   "source": [
    "X_train, X_test, y_train, y_test = train_test_split(digits.data,digits.target,test_size=0.1)"
   ]
  },
  {
   "cell_type": "code",
   "execution_count": 30,
   "id": "posted-champagne",
   "metadata": {},
   "outputs": [
    {
     "data": {
      "text/plain": [
       "(1617, 64)"
      ]
     },
     "execution_count": 30,
     "metadata": {},
     "output_type": "execute_result"
    }
   ],
   "source": [
    "X_train.shape"
   ]
  },
  {
   "cell_type": "code",
   "execution_count": 31,
   "id": "wrong-medium",
   "metadata": {},
   "outputs": [
    {
     "data": {
      "text/plain": [
       "(180, 64)"
      ]
     },
     "execution_count": 31,
     "metadata": {},
     "output_type": "execute_result"
    }
   ],
   "source": [
    "X_test.shape"
   ]
  },
  {
   "cell_type": "code",
   "execution_count": 32,
   "id": "impossible-madrid",
   "metadata": {},
   "outputs": [
    {
     "data": {
      "text/plain": [
       "(1617,)"
      ]
     },
     "execution_count": 32,
     "metadata": {},
     "output_type": "execute_result"
    }
   ],
   "source": [
    "y_train.shape"
   ]
  },
  {
   "cell_type": "code",
   "execution_count": 33,
   "id": "manufactured-opinion",
   "metadata": {},
   "outputs": [
    {
     "data": {
      "text/plain": [
       "(180,)"
      ]
     },
     "execution_count": 33,
     "metadata": {},
     "output_type": "execute_result"
    }
   ],
   "source": [
    "y_test.shape"
   ]
  },
  {
   "cell_type": "code",
   "execution_count": 34,
   "id": "bearing-handling",
   "metadata": {},
   "outputs": [],
   "source": [
    "# Cresting Logistic Regression Object\n",
    "from sklearn.linear_model import LogisticRegression\n",
    "digits_model = LogisticRegression()"
   ]
  },
  {
   "cell_type": "code",
   "execution_count": 35,
   "id": "square-buddy",
   "metadata": {},
   "outputs": [
    {
     "data": {
      "text/plain": [
       "LogisticRegression()"
      ]
     },
     "execution_count": 35,
     "metadata": {},
     "output_type": "execute_result"
    }
   ],
   "source": [
    "# Training Model\n",
    "digits_model.fit(X_train,y_train)"
   ]
  },
  {
   "cell_type": "code",
   "execution_count": 38,
   "id": "advisory-classic",
   "metadata": {},
   "outputs": [
    {
     "name": "stdout",
     "output_type": "stream",
     "text": [
      "Model Score : 0.9611\n"
     ]
    }
   ],
   "source": [
    "# Model Score : Testing Data\n",
    "print(\"Model Score : {:.4f}\".format(digits_model.score(X_test,y_test)))"
   ]
  },
  {
   "cell_type": "code",
   "execution_count": 75,
   "id": "favorite-afghanistan",
   "metadata": {},
   "outputs": [
    {
     "data": {
      "text/plain": [
       "array([9, 1, 7, 7, 5, 6, 9, 3, 6, 8, 0, 4, 0, 7, 4, 1, 9, 4, 3, 5, 6, 2,\n",
       "       2, 0, 9, 8, 2, 3, 3, 7, 3, 1, 8, 6, 4, 5, 5, 8, 1, 6, 0, 5, 2, 7,\n",
       "       0, 2, 7, 2, 1, 8, 5, 4, 9, 6, 2, 2, 5, 4, 5, 1, 3, 9, 6, 7, 6, 4,\n",
       "       3, 6, 0, 9, 3, 8, 8, 4, 8, 7, 8, 9, 1, 6, 5, 3, 7, 2, 9, 0, 8, 6,\n",
       "       0, 8, 7, 0, 1, 5, 1, 5, 0, 4, 3, 2, 0, 4, 2, 0, 5, 5, 0, 5, 7, 4,\n",
       "       6, 7, 5, 2, 4, 3, 4, 4, 4, 9, 1, 9, 5, 4, 8, 7, 4, 2, 1, 6, 0, 1,\n",
       "       9, 9, 4, 9, 5, 7, 0, 3, 6, 8, 0, 4, 0, 5, 1, 7, 3, 8, 7, 2, 8, 2,\n",
       "       8, 9, 4, 7, 2, 2, 4, 8, 7, 8, 9, 9, 2, 8, 0, 5, 1, 6, 8, 5, 1, 2,\n",
       "       4, 2, 4, 0, 2, 3, 8, 6, 3, 0, 0, 7, 0, 8, 0, 5, 7, 2, 9, 7, 9, 9,\n",
       "       3, 7, 7, 0, 5, 8, 1, 1, 0, 4, 1, 3, 2, 3, 6, 9, 6, 5, 3, 3, 7, 3,\n",
       "       6, 0, 2, 8, 8, 5, 0, 6, 1, 4, 7, 6, 9, 6, 7, 8, 1, 6, 5, 2, 1, 6,\n",
       "       6, 6, 9, 7, 3, 7, 3, 4, 6, 4, 7, 2, 9, 6, 1, 1, 1, 7, 4, 6, 3, 0,\n",
       "       6, 4, 0, 3, 1, 9, 6, 2, 1, 0, 6, 0, 7, 7, 0, 6, 2, 7, 7, 2, 3, 0,\n",
       "       2, 1, 5, 4, 7, 6, 9, 0, 7, 5, 3, 1, 7, 7, 5, 7, 5, 8, 8, 5, 2, 6,\n",
       "       3, 8, 0, 1, 6, 1, 1, 8, 4, 9, 6, 1, 6, 6, 7, 2, 5, 4, 0, 7, 1, 8,\n",
       "       0, 9, 0, 1, 1, 2, 7, 3, 9, 0, 1, 4, 6, 0, 6, 4, 0, 2, 3, 9, 2, 1,\n",
       "       9, 4, 5, 4, 4, 4, 1, 9, 0, 6, 6, 5, 2, 9, 5, 6, 2, 5, 9, 7, 9, 3,\n",
       "       2, 3, 9, 5, 5, 7, 3, 0, 9, 0, 5, 6, 6, 4, 3, 0, 3, 0, 9, 8, 0, 4,\n",
       "       8, 9, 7, 3, 6, 0, 1, 3, 1, 0, 6, 8, 1, 4, 8, 6, 1, 8, 0, 1, 7, 8,\n",
       "       2, 9, 5, 6, 2, 9, 3, 6, 7, 9, 2, 8, 4, 2, 9, 4, 7, 9, 4, 1, 0, 3,\n",
       "       5, 3, 7, 0, 8, 4, 3, 3, 1, 3, 8, 0, 5, 9, 1, 3, 2, 3, 7, 6, 7, 1,\n",
       "       7, 3, 0, 7, 7, 8, 6, 3, 3, 3, 7, 3, 0, 8, 1, 3, 8, 3, 3, 3, 8, 4,\n",
       "       7, 1, 3, 4, 8, 9, 9, 8, 4, 1, 7, 4, 2, 7, 8, 4])"
      ]
     },
     "execution_count": 75,
     "metadata": {},
     "output_type": "execute_result"
    }
   ],
   "source": [
    "# Comparing\n",
    "random_sample = []\n",
    "random_sample_target = []\n",
    "random_sample_index = []\n",
    "\n",
    "for i in range(0,500):\n",
    "    x = random.randrange(len(digits.data))\n",
    "    random_sample_index.append(x)\n",
    "    random_sample_target.append(digits.target[x])\n",
    "    random_sample.append(digits.data[x])\n",
    "\n",
    "predicted_digits = digits_model.predict(random_sample)\n",
    "predicted_digits"
   ]
  },
  {
   "cell_type": "code",
   "execution_count": 76,
   "id": "raised-switzerland",
   "metadata": {},
   "outputs": [
    {
     "data": {
      "text/html": [
       "<div>\n",
       "<style scoped>\n",
       "    .dataframe tbody tr th:only-of-type {\n",
       "        vertical-align: middle;\n",
       "    }\n",
       "\n",
       "    .dataframe tbody tr th {\n",
       "        vertical-align: top;\n",
       "    }\n",
       "\n",
       "    .dataframe thead th {\n",
       "        text-align: right;\n",
       "    }\n",
       "</style>\n",
       "<table border=\"1\" class=\"dataframe\">\n",
       "  <thead>\n",
       "    <tr style=\"text-align: right;\">\n",
       "      <th></th>\n",
       "      <th>Actual Digit</th>\n",
       "      <th>Predicted Digit</th>\n",
       "    </tr>\n",
       "  </thead>\n",
       "  <tbody>\n",
       "    <tr>\n",
       "      <th>0</th>\n",
       "      <td>9</td>\n",
       "      <td>9</td>\n",
       "    </tr>\n",
       "    <tr>\n",
       "      <th>1</th>\n",
       "      <td>1</td>\n",
       "      <td>1</td>\n",
       "    </tr>\n",
       "    <tr>\n",
       "      <th>2</th>\n",
       "      <td>7</td>\n",
       "      <td>7</td>\n",
       "    </tr>\n",
       "    <tr>\n",
       "      <th>3</th>\n",
       "      <td>7</td>\n",
       "      <td>7</td>\n",
       "    </tr>\n",
       "    <tr>\n",
       "      <th>4</th>\n",
       "      <td>5</td>\n",
       "      <td>5</td>\n",
       "    </tr>\n",
       "    <tr>\n",
       "      <th>...</th>\n",
       "      <td>...</td>\n",
       "      <td>...</td>\n",
       "    </tr>\n",
       "    <tr>\n",
       "      <th>495</th>\n",
       "      <td>4</td>\n",
       "      <td>4</td>\n",
       "    </tr>\n",
       "    <tr>\n",
       "      <th>496</th>\n",
       "      <td>2</td>\n",
       "      <td>2</td>\n",
       "    </tr>\n",
       "    <tr>\n",
       "      <th>497</th>\n",
       "      <td>7</td>\n",
       "      <td>7</td>\n",
       "    </tr>\n",
       "    <tr>\n",
       "      <th>498</th>\n",
       "      <td>8</td>\n",
       "      <td>8</td>\n",
       "    </tr>\n",
       "    <tr>\n",
       "      <th>499</th>\n",
       "      <td>4</td>\n",
       "      <td>4</td>\n",
       "    </tr>\n",
       "  </tbody>\n",
       "</table>\n",
       "<p>500 rows × 2 columns</p>\n",
       "</div>"
      ],
      "text/plain": [
       "     Actual Digit  Predicted Digit\n",
       "0               9                9\n",
       "1               1                1\n",
       "2               7                7\n",
       "3               7                7\n",
       "4               5                5\n",
       "..            ...              ...\n",
       "495             4                4\n",
       "496             2                2\n",
       "497             7                7\n",
       "498             8                8\n",
       "499             4                4\n",
       "\n",
       "[500 rows x 2 columns]"
      ]
     },
     "execution_count": 76,
     "metadata": {},
     "output_type": "execute_result"
    }
   ],
   "source": [
    "# Results\n",
    "result = pd.DataFrame({'Actual Digit':random_sample_target,'Predicted Digit':predicted_digits})\n",
    "result"
   ]
  },
  {
   "cell_type": "code",
   "execution_count": 78,
   "id": "manual-wings",
   "metadata": {},
   "outputs": [
    {
     "data": {
      "text/plain": [
       "array([[55,  0,  0,  0,  0,  0,  0,  0,  0,  0],\n",
       "       [ 0, 50,  0,  0,  1,  0,  0,  0,  0,  0],\n",
       "       [ 0,  0, 44,  0,  0,  0,  0,  0,  0,  0],\n",
       "       [ 0,  0,  0, 55,  0,  1,  0,  0,  0,  0],\n",
       "       [ 0,  0,  0,  0, 49,  0,  0,  0,  0,  0],\n",
       "       [ 0,  0,  0,  0,  0, 40,  0,  0,  0,  0],\n",
       "       [ 0,  0,  0,  0,  0,  0, 53,  0,  0,  0],\n",
       "       [ 0,  0,  0,  0,  0,  0,  0, 58,  0,  0],\n",
       "       [ 0,  0,  0,  0,  0,  0,  0,  0, 47,  0],\n",
       "       [ 0,  0,  0,  0,  0,  0,  0,  0,  0, 47]], dtype=int64)"
      ]
     },
     "execution_count": 78,
     "metadata": {},
     "output_type": "execute_result"
    }
   ],
   "source": [
    "# Analysing using confusion matrix\n",
    "from sklearn.metrics import confusion_matrix\n",
    "\n",
    "cm = confusion_matrix(random_sample_target,predicted_digits)\n",
    "cm"
   ]
  },
  {
   "cell_type": "code",
   "execution_count": 79,
   "id": "statutory-petite",
   "metadata": {},
   "outputs": [
    {
     "data": {
      "text/plain": [
       "Text(69.0, 0.5, 'Actual')"
      ]
     },
     "execution_count": 79,
     "metadata": {},
     "output_type": "execute_result"
    },
    {
     "data": {
      "image/png": "[encoded data removed]",
      "text/plain": [
       "<Figure size 720x504 with 2 Axes>"
      ]
     },
     "metadata": {
      "needs_background": "light"
     },
     "output_type": "display_data"
    }
   ],
   "source": [
    "# Visualization using heatmap\n",
    "import seaborn as sbn\n",
    "plt.figure(figsize = (10,7))\n",
    "sbn.heatmap(cm,annot=True)\n",
    "plt.xlabel(\"Predicted\")\n",
    "plt.ylabel(\"Actual\")"
   ]
  },
  {
   "cell_type": "code",
   "execution_count": 80,
   "id": "pleasant-chemistry",
   "metadata": {},
   "outputs": [],
   "source": [
    "# Exporting Result to CSV file\n",
    "result.to_csv(\"result.csv\",index=False)"
   ]
  },
  {
   "cell_type": "code",
   "execution_count": 81,
   "id": "silent-agriculture",
   "metadata": {},
   "outputs": [
    {
     "data": {
      "text/plain": [
       "['digit-predictor-model']"
      ]
     },
     "execution_count": 81,
     "metadata": {},
     "output_type": "execute_result"
    }
   ],
   "source": [
    "# Saving Model to binary file\n",
    "import joblib\n",
    "joblib.dump(digits_model,\"digit-predictor-model\")"
   ]
  }
 ],
 "metadata": {
  "kernelspec": {
   "display_name": "Python 3",
   "language": "python",
   "name": "python3"
  },
  "language_info": {
   "codemirror_mode": {
    "name": "ipython",
    "version": 3
   },
   "file_extension": ".py",
   "mimetype": "text/x-python",
   "name": "python",
   "nbconvert_exporter": "python",
   "pygments_lexer": "ipython3",
   "version": "3.9.1"
  }
 },
 "nbformat": 4,
 "nbformat_minor": 5
}
