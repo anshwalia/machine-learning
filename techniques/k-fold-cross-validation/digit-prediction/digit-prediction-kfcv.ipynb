{
 "cells": [
  {
   "cell_type": "code",
   "execution_count": 13,
   "id": "sublime-statistics",
   "metadata": {},
   "outputs": [],
   "source": [
    "# Logistic Regression\n",
    "from sklearn.linear_model import LogisticRegression\n",
    "# Support Vector Classifier\n",
    "from sklearn.svm import SVC\n",
    "# Random Forest\n",
    "from sklearn.ensemble import RandomForestClassifier\n",
    "# Numpy\n",
    "import numpy as np\n",
    "# Disable Warnings\n",
    "import warnings\n",
    "warnings.filterwarnings('ignore')\n",
    "# Digits Dataset\n",
    "from sklearn.datasets import load_digits"
   ]
  },
  {
   "cell_type": "code",
   "execution_count": 2,
   "id": "lesbian-tulsa",
   "metadata": {},
   "outputs": [],
   "source": [
    "# Loading Dataset\n",
    "digits = load_digits()"
   ]
  },
  {
   "cell_type": "code",
   "execution_count": 3,
   "id": "romantic-orbit",
   "metadata": {},
   "outputs": [
    {
     "data": {
      "text/plain": [
       "['DESCR', 'data', 'feature_names', 'frame', 'images', 'target', 'target_names']"
      ]
     },
     "execution_count": 3,
     "metadata": {},
     "output_type": "execute_result"
    }
   ],
   "source": [
    "dir(digits)"
   ]
  },
  {
   "cell_type": "code",
   "execution_count": 26,
   "id": "intense-booth",
   "metadata": {},
   "outputs": [],
   "source": [
    "# Data Prep\n",
    "from sklearn.model_selection import train_test_split as tts\n",
    "X_train, X_test, y_train, y_test = tts(digits.data,digits.target,test_size=0.1)"
   ]
  },
  {
   "cell_type": "code",
   "execution_count": 27,
   "id": "former-arcade",
   "metadata": {},
   "outputs": [
    {
     "data": {
      "text/plain": [
       "(1617, 64)"
      ]
     },
     "execution_count": 27,
     "metadata": {},
     "output_type": "execute_result"
    }
   ],
   "source": [
    "X_train.shape"
   ]
  },
  {
   "cell_type": "code",
   "execution_count": 28,
   "id": "tropical-liability",
   "metadata": {},
   "outputs": [
    {
     "data": {
      "text/plain": [
       "(180, 64)"
      ]
     },
     "execution_count": 28,
     "metadata": {},
     "output_type": "execute_result"
    }
   ],
   "source": [
    "X_test.shape"
   ]
  },
  {
   "cell_type": "code",
   "execution_count": 29,
   "id": "exterior-sustainability",
   "metadata": {},
   "outputs": [
    {
     "data": {
      "text/plain": [
       "(1617,)"
      ]
     },
     "execution_count": 29,
     "metadata": {},
     "output_type": "execute_result"
    }
   ],
   "source": [
    "y_train.shape"
   ]
  },
  {
   "cell_type": "code",
   "execution_count": 30,
   "id": "numerical-cancer",
   "metadata": {},
   "outputs": [
    {
     "data": {
      "text/plain": [
       "(180,)"
      ]
     },
     "execution_count": 30,
     "metadata": {},
     "output_type": "execute_result"
    }
   ],
   "source": [
    "y_test.shape"
   ]
  },
  {
   "cell_type": "code",
   "execution_count": 31,
   "id": "human-standing",
   "metadata": {},
   "outputs": [
    {
     "name": "stdout",
     "output_type": "stream",
     "text": [
      "Logistic Regression Model Score : 0.9556\n"
     ]
    }
   ],
   "source": [
    "# Logistic Regression Model\n",
    "digits_lr_model = LogisticRegression()\n",
    "digits_lr_model.fit(X_train,y_train)\n",
    "print(\"Logistic Regression Model Score : {:.4f}\".format(digits_lr_model.score(X_test,y_test)))"
   ]
  },
  {
   "cell_type": "code",
   "execution_count": 32,
   "id": "identical-administration",
   "metadata": {},
   "outputs": [
    {
     "name": "stdout",
     "output_type": "stream",
     "text": [
      "SVM Model Score : 0.9778\n"
     ]
    }
   ],
   "source": [
    "# SVM Model\n",
    "digits_svm_model = SVC()\n",
    "digits_svm_model.fit(X_train,y_train)\n",
    "print(\"SVM Model Score : {:.4f}\".format(digits_svm_model.score(X_test,y_test)))"
   ]
  },
  {
   "cell_type": "code",
   "execution_count": 33,
   "id": "expanded-empire",
   "metadata": {},
   "outputs": [
    {
     "name": "stdout",
     "output_type": "stream",
     "text": [
      "Random Forest Model Score : 0.9611\n"
     ]
    }
   ],
   "source": [
    "# Random Forest Model\n",
    "digits_rfc_model = RandomForestClassifier()\n",
    "digits_rfc_model.fit(X_train,y_train)\n",
    "print(\"Random Forest Model Score : {:.4f}\".format(digits_rfc_model.score(X_test,y_test)))"
   ]
  },
  {
   "cell_type": "code",
   "execution_count": 40,
   "id": "grand-athletics",
   "metadata": {},
   "outputs": [
    {
     "data": {
      "text/plain": [
       "KFold(n_splits=10, random_state=None, shuffle=False)"
      ]
     },
     "execution_count": 40,
     "metadata": {},
     "output_type": "execute_result"
    }
   ],
   "source": [
    "# K Fold\n",
    "from sklearn.model_selection import KFold\n",
    "kf = KFold(n_splits=10)\n",
    "kf"
   ]
  },
  {
   "cell_type": "code",
   "execution_count": 41,
   "id": "flexible-bundle",
   "metadata": {},
   "outputs": [],
   "source": [
    "# Function to get score for given model\n",
    "def get_score(model,X_train,X_test,y_train,y_test):\n",
    "    model.fit(X_train,y_train)\n",
    "    return model.score(X_test,y_test)"
   ]
  },
  {
   "cell_type": "code",
   "execution_count": 45,
   "id": "compressed-aging",
   "metadata": {},
   "outputs": [
    {
     "name": "stdout",
     "output_type": "stream",
     "text": [
      "Logistic Regression Model Average Score : 0.9315\n",
      "SVM Model Average Score                 : 0.9733\n",
      "Random Forest Model Average Score       : 0.9549\n"
     ]
    }
   ],
   "source": [
    "# Manually Generating Scores for K Fold Cross Validation\n",
    "scores_lr = []\n",
    "scores_svm = []\n",
    "scores_rf = []\n",
    "\n",
    "for train_index, test_index in kf.split(digits.data):\n",
    "    X_train, X_test, y_train, y_test = digits.data[train_index], digits.data[test_index], digits.target[train_index], digits.target[test_index]\n",
    "    scores_lr.append(get_score(LogisticRegression(),X_train,X_test,y_train,y_test))\n",
    "    scores_svm.append(get_score(SVC(),X_train,X_test,y_train,y_test))\n",
    "    scores_rf.append(get_score(RandomForestClassifier(),X_train,X_test,y_train,y_test))\n",
    "    \n",
    "print(\"Logistic Regression Model Average Score : {:.4f}\".format(np.average(scores_lr)))\n",
    "print(\"SVM Model Average Score                 : {:.4f}\".format(np.average(scores_svm)))\n",
    "print(\"Random Forest Model Average Score       : {:.4f}\".format(np.average(scores_rf)))"
   ]
  },
  {
   "cell_type": "code",
   "execution_count": 49,
   "id": "twelve-second",
   "metadata": {},
   "outputs": [
    {
     "name": "stdout",
     "output_type": "stream",
     "text": [
      "Logistic Regression Model Average Score : 0.9588\n",
      "SVM Model Average Score                 : 0.9877\n",
      "Random Forest Model Average Score       : 0.9721\n"
     ]
    }
   ],
   "source": [
    "# Inbuilt Method to perform above tasks\n",
    "from sklearn.model_selection import cross_val_score\n",
    "slr = cross_val_score(LogisticRegression(),digits.data,digits.target,cv=50,n_jobs=-1)\n",
    "ssvm = cross_val_score(SVC(),digits.data,digits.target,cv=50,n_jobs=-1)\n",
    "srf = cross_val_score(RandomForestClassifier(),digits.data,digits.target,cv=50,n_jobs=-1)\n",
    "\n",
    "print(\"Logistic Regression Model Average Score : {:.4f}\".format(np.average(slr)))\n",
    "print(\"SVM Model Average Score                 : {:.4f}\".format(np.average(ssvm)))\n",
    "print(\"Random Forest Model Average Score       : {:.4f}\".format(np.average(srf)))"
   ]
  },
  {
   "cell_type": "code",
   "execution_count": null,
   "id": "needed-newfoundland",
   "metadata": {},
   "outputs": [],
   "source": []
  }
 ],
 "metadata": {
  "kernelspec": {
   "display_name": "Python 3",
   "language": "python",
   "name": "python3"
  },
  "language_info": {
   "codemirror_mode": {
    "name": "ipython",
    "version": 3
   },
   "file_extension": ".py",
   "mimetype": "text/x-python",
   "name": "python",
   "nbconvert_exporter": "python",
   "pygments_lexer": "ipython3",
   "version": "3.9.1"
  }
 },
 "nbformat": 4,
 "nbformat_minor": 5
}
